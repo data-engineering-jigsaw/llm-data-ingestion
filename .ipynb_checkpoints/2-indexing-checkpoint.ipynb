{
 "cells": [
  {
   "cell_type": "markdown",
   "id": "724fd965-a913-4827-a03a-e9daddd1146a",
   "metadata": {},
   "source": [
    "# Indexing"
   ]
  },
  {
   "cell_type": "markdown",
   "id": "6a3fbd35-9ad6-4140-9383-23ac7674f42f",
   "metadata": {},
   "source": [
    "1. Flat indexing \n",
    "    *  Just store the original vector and then calculate distance from the query vector"
   ]
  },
  {
   "cell_type": "markdown",
   "id": "5894ffad-77f0-4d09-975c-f095d593ef81",
   "metadata": {},
   "source": [
    "* Flat indexing is an index strategy where we simply store each vector as is, with no modifications.\n",
    "* Flat indexing is simple, easy to implement, and provides perfect accuracy. The downside is it is slow. In a flat index, the similarity between the query vector and every other vector in the index is computed.\n",
    "\n"
   ]
  },
  {
   "cell_type": "markdown",
   "id": "712e585b-2321-4c35-9bc9-b4b539bfbf1c",
   "metadata": {},
   "source": [
    "* Perfectly accurate, but slow"
   ]
  },
  {
   "cell_type": "markdown",
   "id": "d2837bf0-fee1-4402-8f1a-deb832042826",
   "metadata": {},
   "source": [
    "2. Locality Sensitive Hashing\n",
    "\n",
    "* Finds the approximate nearest neighbor, instead of doing an exhaustive search to find the actual nearest neighbor\n",
    "*  Vector embeddings that are nearby each other are hashed to the same bucket. We can then store all these similar vectors in a single table or bucket"
   ]
  },
  {
   "cell_type": "markdown",
   "id": "ed46cd0a-beef-4e3c-b1f6-e5bdbe24f3de",
   "metadata": {},
   "source": [
    "[Resources](https://www.datastax.com/guides/what-is-a-vector-index)"
   ]
  },
  {
   "cell_type": "code",
   "execution_count": null,
   "id": "dada91ef-41f2-4817-bd67-da832b2a60c0",
   "metadata": {},
   "outputs": [],
   "source": []
  }
 ],
 "metadata": {
  "kernelspec": {
   "display_name": "Python 3 (ipykernel)",
   "language": "python",
   "name": "python3"
  },
  "language_info": {
   "codemirror_mode": {
    "name": "ipython",
    "version": 3
   },
   "file_extension": ".py",
   "mimetype": "text/x-python",
   "name": "python",
   "nbconvert_exporter": "python",
   "pygments_lexer": "ipython3",
   "version": "3.10.13"
  }
 },
 "nbformat": 4,
 "nbformat_minor": 5
}
