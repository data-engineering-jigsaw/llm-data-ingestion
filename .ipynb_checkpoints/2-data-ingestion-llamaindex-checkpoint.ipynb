{
 "cells": [
  {
   "cell_type": "markdown",
   "id": "4c1d96d9-40ad-43aa-9948-35ca901b9def",
   "metadata": {},
   "source": [
    "# Data Ingestion Lab"
   ]
  },
  {
   "cell_type": "markdown",
   "id": "c45b984b-143c-481c-bdbc-8e5996ab24e0",
   "metadata": {},
   "source": [
    "Ok, so in the last lesson we reviewed data ingestion with llamaindex.  Now, it's your turn. "
   ]
  },
  {
   "cell_type": "markdown",
   "id": "226633a1-502b-42f2-9cde-f1f24da9c184",
   "metadata": {},
   "source": [
    "Begin by downloading the following:"
   ]
  },
  {
   "cell_type": "code",
   "execution_count": null,
   "id": "19cf3604-64b0-41d3-a737-cfc60237ab4f",
   "metadata": {},
   "outputs": [],
   "source": [
    "# !mkdir -p 'data/10k/'\n",
    "# !wget 'https://raw.githubusercontent.com/run-llama/llama_index/main/docs/examples/data/10k/uber_2021.pdf' -O 'data/10k/uber_2021.pdf'\n",
    "# !wget 'https://raw.githubusercontent.com/run-llama/llama_index/main/docs/examples/data/10k/lyft_2021.pdf' -O 'data/10k/lyft_2021.pdf'"
   ]
  },
  {
   "cell_type": "markdown",
   "id": "d4e522a9-0743-4d6d-86f3-f6deb4c9d076",
   "metadata": {},
   "source": [
    "* And do the following:"
   ]
  },
  {
   "cell_type": "markdown",
   "id": "b0e82770-da80-4b14-92c3-7bbeb0b2f6d7",
   "metadata": {},
   "source": [
    "1. Read the data into text with pymupdf\n",
    "2. Use llamaindex to split into separate nodes\n",
    "3. Manually embed each node, and store the embedding on the node\n",
    "4. Load the nodes to the vector store index\n",
    "5. Specify the query engine and ask a question like the following:\n",
    "\n",
    "> \"What is the revenue growth of Uber from 2020 to 2021?\"\n",
    "\n",
    "Look at the response and explore not only the response text, but also the source_documents that helped to generate the response."
   ]
  },
  {
   "cell_type": "markdown",
   "id": "6d763b4c-a0b4-4ac4-ae10-f41356556b1c",
   "metadata": {},
   "source": [
    "### Bonus"
   ]
  },
  {
   "cell_type": "markdown",
   "id": "270e59af-4c0d-48c2-aee5-b46d4ee12136",
   "metadata": {},
   "source": [
    "From there, you can move through the following [Llamaindex tutorial](https://docs.llamaindex.ai/en/stable/examples/usecases/10k_sub_question.html)\n",
    "    \n"
   ]
  }
 ],
 "metadata": {
  "kernelspec": {
   "display_name": "Python 3 (ipykernel)",
   "language": "python",
   "name": "python3"
  },
  "language_info": {
   "codemirror_mode": {
    "name": "ipython",
    "version": 3
   },
   "file_extension": ".py",
   "mimetype": "text/x-python",
   "name": "python",
   "nbconvert_exporter": "python",
   "pygments_lexer": "ipython3",
   "version": "3.10.13"
  }
 },
 "nbformat": 4,
 "nbformat_minor": 5
}
